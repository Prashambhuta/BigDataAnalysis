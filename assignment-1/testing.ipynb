{
 "cells": [
  {
   "cell_type": "code",
   "execution_count": 1,
   "id": "0f1a041c-ac7e-4f80-ac96-1ed799b638b7",
   "metadata": {},
   "outputs": [],
   "source": [
    "import pandas as pd"
   ]
  },
  {
   "cell_type": "code",
   "execution_count": 2,
   "id": "c202aa9d-8fe8-4578-8519-bff7330c317a",
   "metadata": {},
   "outputs": [],
   "source": [
    "df = pd.read_csv('covid_abstracts.csv')['abstract']"
   ]
  },
  {
   "cell_type": "code",
   "execution_count": 3,
   "id": "9eb4061e-6a98-4ae6-b28b-e77ec9f66792",
   "metadata": {},
   "outputs": [
    {
     "data": {
      "text/plain": [
       "0    This article summarizes the experiences of COV...\n",
       "1    Coronavirus disease 2019  COVID-19   caused by...\n",
       "2    BACKGROUND  COVID-19 has had a significant imp...\n",
       "3    The coronavirus disease 2019  COVID-19  which ...\n",
       "4    In the setting of supply chain shortages of na...\n",
       "Name: abstract, dtype: object"
      ]
     },
     "execution_count": 3,
     "metadata": {},
     "output_type": "execute_result"
    }
   ],
   "source": [
    "df.head()"
   ]
  },
  {
   "cell_type": "code",
   "execution_count": 4,
   "id": "113925eb-ecf9-4bc9-99d2-b2629c3335bf",
   "metadata": {},
   "outputs": [],
   "source": [
    "import collections"
   ]
  },
  {
   "cell_type": "code",
   "execution_count": 11,
   "id": "9243a147-568c-4185-8f5e-33744af26476",
   "metadata": {},
   "outputs": [],
   "source": [
    "char_count = collections.defaultdict(int)"
   ]
  },
  {
   "cell_type": "code",
   "execution_count": 12,
   "id": "ec2714d1-d96e-4747-919b-c74743905707",
   "metadata": {},
   "outputs": [],
   "source": [
    "for line in df:\n",
    "    for char in line:\n",
    "        char_count[char] += 1"
   ]
  },
  {
   "cell_type": "code",
   "execution_count": 13,
   "id": "e58931d1-1244-496d-ad3b-294f2fbbde8c",
   "metadata": {},
   "outputs": [
    {
     "data": {
      "text/plain": [
       "defaultdict(int,\n",
       "            {'T': 51485,\n",
       "             'h': 404390,\n",
       "             'i': 1012023,\n",
       "             's': 804567,\n",
       "             ' ': 2624107,\n",
       "             'a': 962468,\n",
       "             'r': 729077,\n",
       "             't': 1013179,\n",
       "             'c': 485343,\n",
       "             'l': 456222,\n",
       "             'e': 1454307,\n",
       "             'u': 300484,\n",
       "             'm': 290960,\n",
       "             'z': 13879,\n",
       "             'x': 26736,\n",
       "             'p': 306640,\n",
       "             'n': 897185,\n",
       "             'o': 830866,\n",
       "             'f': 252962,\n",
       "             'C': 80268,\n",
       "             'O': 54673,\n",
       "             'V': 45676,\n",
       "             'I': 64163,\n",
       "             'D': 50827,\n",
       "             '-': 105312,\n",
       "             '1': 75316,\n",
       "             '9': 48861,\n",
       "             'd': 497634,\n",
       "             'g': 217350,\n",
       "             'F': 10189,\n",
       "             'k': 38542,\n",
       "             'A': 45314,\n",
       "             'M': 21348,\n",
       "             'y': 176052,\n",
       "             'S': 58316,\n",
       "             'R': 37221,\n",
       "             'v': 170045,\n",
       "             'w': 144173,\n",
       "             'b': 121121,\n",
       "             'E': 21561,\n",
       "             '2': 58440,\n",
       "             '0': 55943,\n",
       "             '3': 21254,\n",
       "             'N': 22999,\n",
       "             '4': 18593,\n",
       "             '5': 23058,\n",
       "             'B': 13227,\n",
       "             '6': 16789,\n",
       "             '7': 15058,\n",
       "             '8': 14892,\n",
       "             'H': 15668,\n",
       "             'P': 22627,\n",
       "             'G': 8866,\n",
       "             'K': 4337,\n",
       "             'U': 14264,\n",
       "             'j': 6920,\n",
       "             'W': 11093,\n",
       "             'L': 14735,\n",
       "             'q': 13613,\n",
       "             '>': 1316,\n",
       "             '<': 3058,\n",
       "             'Y': 1236,\n",
       "             'J': 3837,\n",
       "             'Q': 2067,\n",
       "             'X': 814,\n",
       "             'Z': 695})"
      ]
     },
     "execution_count": 13,
     "metadata": {},
     "output_type": "execute_result"
    }
   ],
   "source": [
    "char_count"
   ]
  },
  {
   "cell_type": "code",
   "execution_count": null,
   "id": "b7c6ad1b-e40c-4e38-96ba-2fc0c54e6247",
   "metadata": {},
   "outputs": [],
   "source": []
  }
 ],
 "metadata": {
  "kernelspec": {
   "display_name": "ds_base",
   "language": "python",
   "name": "ds_base"
  },
  "language_info": {
   "codemirror_mode": {
    "name": "ipython",
    "version": 3
   },
   "file_extension": ".py",
   "mimetype": "text/x-python",
   "name": "python",
   "nbconvert_exporter": "python",
   "pygments_lexer": "ipython3",
   "version": "3.7.11"
  }
 },
 "nbformat": 4,
 "nbformat_minor": 5
}
